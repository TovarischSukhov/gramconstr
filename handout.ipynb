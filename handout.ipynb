{
 "cells": [
  {
   "cell_type": "markdown",
   "metadata": {},
   "source": [
    "# уж X то ..."
   ]
  },
  {
   "cell_type": "code",
   "execution_count": 4,
   "metadata": {
    "collapsed": false
   },
   "outputs": [],
   "source": [
    "data <- read.table('data - stable.tsv', header=TRUE, sep ='\\t', encoding=\"UTF-8\", quote = '')"
   ]
  },
  {
   "cell_type": "code",
   "execution_count": 5,
   "metadata": {
    "collapsed": false,
    "scrolled": true
   },
   "outputs": [],
   "source": [
    "data_clean <- data.frame(data$X.1, data$X, data$VERB, data$N.P, data$S_O, data$Time, data$KNOW, data$Perso., data$Act)\n",
    "data_clean[is.na(data_clean)] <- 0\n",
    "data_clean[,7] <- factor(data_clean[,7])\n",
    "\n",
    "train_set <- data_clean[1:200,]\n",
    "test_set <- data_clean[201:453,]"
   ]
  },
  {
   "cell_type": "code",
   "execution_count": 13,
   "metadata": {
    "collapsed": false
   },
   "outputs": [
    {
     "data": {
      "text/plain": [
       "   \n",
       "      N   P\n",
       "  0  62 175\n",
       "  1  14 200"
      ]
     },
     "metadata": {},
     "output_type": "display_data"
    },
    {
     "data": {
      "text/plain": [
       "\n",
       "\tPearson's Chi-squared test with Yates' continuity correction\n",
       "\n",
       "data:  table(new_data$data.KNOW, new_data$data.N.P)\n",
       "X-squared = 29.506, df = 1, p-value = 5.576e-08\n"
      ]
     },
     "metadata": {},
     "output_type": "display_data"
    }
   ],
   "source": [
    "new_data  <- data_clean[data_clean$data.NP != '-',]\n",
    "for(i in c(1:length(data_clean[,1]))){\n",
    "    if(data_clean[i,4]!='-'){\n",
    "        new_data[i,]  <- data_clean[i,]\n",
    "    }\n",
    "}\n",
    "new_data$data.N.P <- droplevels(new_data$data.N.P)\n",
    "table(new_data$data.KNOW, new_data$data.N.P)\n",
    "chisq.test(table(new_data$data.KNOW, new_data$data.N.P))"
   ]
  },
  {
   "cell_type": "code",
   "execution_count": 12,
   "metadata": {
    "collapsed": false
   },
   "outputs": [
    {
     "data": {
      "text/plain": [
       "   \n",
       "      N   P\n",
       "  0  61 192\n",
       "  1  15 183"
      ]
     },
     "metadata": {},
     "output_type": "display_data"
    },
    {
     "data": {
      "text/plain": [
       "\n",
       "\tFisher's Exact Test for Count Data\n",
       "\n",
       "data:  table(new_data$data.Perso., new_data$data.N.P)\n",
       "p-value = 1.997e-06\n",
       "alternative hypothesis: true odds ratio is not equal to 1\n",
       "95 percent confidence interval:\n",
       " 2.080347 7.594844\n",
       "sample estimates:\n",
       "odds ratio \n",
       "  3.865405 \n"
      ]
     },
     "metadata": {},
     "output_type": "display_data"
    }
   ],
   "source": [
    "table(new_data$data.Perso., new_data$data.N.P)\n",
    "fisher.test(table(new_data$data.Perso., new_data$data.N.P))"
   ]
  },
  {
   "cell_type": "code",
   "execution_count": 7,
   "metadata": {
    "collapsed": false
   },
   "outputs": [
    {
     "name": "stdout",
     "output_type": "stream",
     "text": [
      "\n",
      "Call:\n",
      " randomForest(formula = data.KNOW ~ data.N.P + data.S_O + data.Perso.,      data = train_set) \n",
      "               Type of random forest: classification\n",
      "                     Number of trees: 500\n",
      "No. of variables tried at each split: 1\n",
      "\n",
      "        OOB estimate of  error rate: 22.5%\n",
      "Confusion matrix:\n",
      "    0  1 class.error\n",
      "0 106 11  0.09401709\n",
      "1  34 49  0.40963855\n"
     ]
    },
    {
     "data": {
      "text/html": [
       "0.185770750988142"
      ],
      "text/latex": [
       "0.185770750988142"
      ],
      "text/markdown": [
       "0.185770750988142"
      ],
      "text/plain": [
       "[1] 0.1857708"
      ]
     },
     "metadata": {},
     "output_type": "display_data"
    },
    {
     "data": {
      "text/plain": [
       "           \n",
       "predictions   0   1\n",
       "          0 115  40\n",
       "          1   7  91"
      ]
     },
     "metadata": {},
     "output_type": "display_data"
    }
   ],
   "source": [
    "library(randomForest)\n",
    "output.forest <- randomForest(formula = data.KNOW ~ data.N.P + data.S_O + data.Perso., data = train_set)\n",
    "\n",
    "print(output.forest) \n",
    "\n",
    "\n",
    "predictions <- predict(output.forest, newdata = test_set)\n",
    "\n",
    "test_answ  <- test_set$data.KNOW\n",
    "test_answ[is.na(test_answ)] <- 0\n",
    "\n",
    "incorrect  <- 0\n",
    "for(i in c(1:length(test_answ))){\n",
    "\n",
    "        if(predictions[i] != test_set$data.KNOW[i]){\n",
    "            incorrect <- incorrect + 1\n",
    "        \n",
    "    }\n",
    "}\n",
    "(incorrect)/length(test_answ)\n",
    "\n",
    "table(predictions,test_set$data.KNOW)"
   ]
  },
  {
   "cell_type": "code",
   "execution_count": 9,
   "metadata": {
    "collapsed": false
   },
   "outputs": [
    {
     "name": "stdout",
     "output_type": "stream",
     "text": [
      "\n",
      "Call:\n",
      " randomForest(formula = data.KNOW ~ data.N.P + data.Perso., data = train_set) \n",
      "               Type of random forest: classification\n",
      "                     Number of trees: 500\n",
      "No. of variables tried at each split: 1\n",
      "\n",
      "        OOB estimate of  error rate: 27%\n",
      "Confusion matrix:\n",
      "   0  1 class.error\n",
      "0 92 25   0.2136752\n",
      "1 29 54   0.3493976\n"
     ]
    },
    {
     "data": {
      "text/html": [
       "0.225296442687747"
      ],
      "text/latex": [
       "0.225296442687747"
      ],
      "text/markdown": [
       "0.225296442687747"
      ],
      "text/plain": [
       "[1] 0.2252964"
      ]
     },
     "metadata": {},
     "output_type": "display_data"
    },
    {
     "data": {
      "text/plain": [
       "           \n",
       "predictions   0   1\n",
       "          0 102  37\n",
       "          1  20  94"
      ]
     },
     "metadata": {},
     "output_type": "display_data"
    }
   ],
   "source": [
    "library(randomForest)\n",
    "output.forest <- randomForest(formula = data.KNOW ~ data.N.P + data.Perso., data = train_set)\n",
    "\n",
    "# View the forest results.\n",
    "print(output.forest) \n",
    "\n",
    "\n",
    "predictions <- predict(output.forest, newdata = test_set)\n",
    "\n",
    "test_answ  <- test_set$data.KNOW\n",
    "test_answ[is.na(test_answ)] <- 0\n",
    "\n",
    "incorrect  <- 0\n",
    "for(i in c(1:length(test_answ))){\n",
    "\n",
    "        if(predictions[i] != test_set$data.KNOW[i]){\n",
    "            incorrect <- incorrect + 1\n",
    "        \n",
    "    }\n",
    "}\n",
    "(incorrect)/length(test_answ)\n",
    "\n",
    "table(predictions,test_set$data.KNOW)"
   ]
  },
  {
   "cell_type": "code",
   "execution_count": 10,
   "metadata": {
    "collapsed": false
   },
   "outputs": [
    {
     "name": "stdout",
     "output_type": "stream",
     "text": [
      "\n",
      "Call:\n",
      " randomForest(formula = data.KNOW ~ data.S_O + data.Perso., data = train_set) \n",
      "               Type of random forest: classification\n",
      "                     Number of trees: 500\n",
      "No. of variables tried at each split: 1\n",
      "\n",
      "        OOB estimate of  error rate: 27.5%\n",
      "Confusion matrix:\n",
      "   0  1 class.error\n",
      "0 92 25   0.2136752\n",
      "1 30 53   0.3614458\n"
     ]
    },
    {
     "data": {
      "text/html": [
       "0.209486166007905"
      ],
      "text/latex": [
       "0.209486166007905"
      ],
      "text/markdown": [
       "0.209486166007905"
      ],
      "text/plain": [
       "[1] 0.2094862"
      ]
     },
     "metadata": {},
     "output_type": "display_data"
    },
    {
     "data": {
      "text/plain": [
       "           \n",
       "predictions   0   1\n",
       "          0 106  37\n",
       "          1  16  94"
      ]
     },
     "metadata": {},
     "output_type": "display_data"
    }
   ],
   "source": [
    "library(randomForest)\n",
    "output.forest <- randomForest(formula = data.KNOW ~ data.S_O + data.Perso., data = train_set)\n",
    "\n",
    "# View the forest results.\n",
    "print(output.forest) \n",
    "\n",
    "\n",
    "predictions <- predict(output.forest, newdata = test_set)\n",
    "\n",
    "test_answ  <- test_set$data.KNOW\n",
    "test_answ[is.na(test_answ)] <- 0\n",
    "\n",
    "incorrect  <- 0\n",
    "for(i in c(1:length(test_answ))){\n",
    "\n",
    "        if(predictions[i] != test_set$data.KNOW[i]){\n",
    "            incorrect <- incorrect + 1\n",
    "        \n",
    "    }\n",
    "}\n",
    "(incorrect)/length(test_answ)\n",
    "\n",
    "table(predictions,test_set$data.KNOW)"
   ]
  },
  {
   "cell_type": "code",
   "execution_count": 8,
   "metadata": {
    "collapsed": false
   },
   "outputs": [
    {
     "name": "stdout",
     "output_type": "stream",
     "text": [
      "\n",
      "Call:\n",
      " randomForest(formula = data.KNOW ~ data.N.P + data.S_O, data = train_set) \n",
      "               Type of random forest: classification\n",
      "                     Number of trees: 500\n",
      "No. of variables tried at each split: 1\n",
      "\n",
      "        OOB estimate of  error rate: 34.5%\n",
      "Confusion matrix:\n",
      "   0  1 class.error\n",
      "0 65 52   0.4444444\n",
      "1 17 66   0.2048193\n"
     ]
    },
    {
     "data": {
      "text/html": [
       "0.300395256916996"
      ],
      "text/latex": [
       "0.300395256916996"
      ],
      "text/markdown": [
       "0.300395256916996"
      ],
      "text/plain": [
       "[1] 0.3003953"
      ]
     },
     "metadata": {},
     "output_type": "display_data"
    },
    {
     "data": {
      "text/plain": [
       "           \n",
       "predictions   0   1\n",
       "          0  54   8\n",
       "          1  68 123"
      ]
     },
     "metadata": {},
     "output_type": "display_data"
    }
   ],
   "source": [
    "library(randomForest)\n",
    "output.forest <- randomForest(formula = data.KNOW ~ data.N.P + data.S_O, data = train_set)\n",
    "\n",
    "# View the forest results.\n",
    "print(output.forest) \n",
    "\n",
    "\n",
    "predictions <- predict(output.forest, newdata = test_set)\n",
    "\n",
    "test_answ  <- test_set$data.KNOW\n",
    "test_answ[is.na(test_answ)] <- 0\n",
    "\n",
    "incorrect  <- 0\n",
    "for(i in c(1:length(test_answ))){\n",
    "\n",
    "        if(predictions[i] != test_set$data.KNOW[i]){\n",
    "            incorrect <- incorrect + 1\n",
    "        \n",
    "    }\n",
    "}\n",
    "(incorrect)/length(test_answ)\n",
    "\n",
    "table(predictions,test_set$data.KNOW)"
   ]
  },
  {
   "cell_type": "code",
   "execution_count": 11,
   "metadata": {
    "collapsed": false
   },
   "outputs": [
    {
     "name": "stdout",
     "output_type": "stream",
     "text": [
      "\n",
      "Call:\n",
      " randomForest(formula = data.KNOW ~ data.Perso., data = train_set) \n",
      "               Type of random forest: classification\n",
      "                     Number of trees: 500\n",
      "No. of variables tried at each split: 1\n",
      "\n",
      "        OOB estimate of  error rate: 38%\n",
      "Confusion matrix:\n",
      "   0  1 class.error\n",
      "0 62 55   0.4700855\n",
      "1 21 62   0.2530120\n"
     ]
    },
    {
     "data": {
      "text/html": [
       "0.288537549407115"
      ],
      "text/latex": [
       "0.288537549407115"
      ],
      "text/markdown": [
       "0.288537549407115"
      ],
      "text/plain": [
       "[1] 0.2885375"
      ]
     },
     "metadata": {},
     "output_type": "display_data"
    },
    {
     "data": {
      "text/plain": [
       "           \n",
       "predictions  0  1\n",
       "          0 82 33\n",
       "          1 40 98"
      ]
     },
     "metadata": {},
     "output_type": "display_data"
    }
   ],
   "source": [
    "library(randomForest)\n",
    "output.forest <- randomForest(formula = data.KNOW ~ data.Perso., data = train_set)\n",
    "\n",
    "# View the forest results.\n",
    "print(output.forest) \n",
    "\n",
    "\n",
    "predictions <- predict(output.forest, newdata = test_set)\n",
    "\n",
    "test_answ  <- test_set$data.KNOW\n",
    "test_answ[is.na(test_answ)] <- 0\n",
    "\n",
    "incorrect  <- 0\n",
    "for(i in c(1:length(test_answ))){\n",
    "\n",
    "        if(predictions[i] != test_set$data.KNOW[i]){\n",
    "            incorrect <- incorrect + 1\n",
    "        \n",
    "    }\n",
    "}\n",
    "(incorrect)/length(test_answ)\n",
    "\n",
    "table(predictions,test_set$data.KNOW)"
   ]
  }
 ],
 "metadata": {
  "kernelspec": {
   "display_name": "R",
   "language": "R",
   "name": "ir"
  },
  "language_info": {
   "codemirror_mode": "r",
   "file_extension": ".r",
   "mimetype": "text/x-r-source",
   "name": "R",
   "pygments_lexer": "r",
   "version": "3.3.1"
  }
 },
 "nbformat": 4,
 "nbformat_minor": 2
}

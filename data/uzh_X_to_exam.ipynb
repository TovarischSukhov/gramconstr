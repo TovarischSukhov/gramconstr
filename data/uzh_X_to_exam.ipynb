{
 "cells": [
  {
   "cell_type": "code",
   "execution_count": 1,
   "metadata": {
    "collapsed": false
   },
   "outputs": [],
   "source": [
    "data <- read.table('data - stable.tsv', header=TRUE, sep ='\\t', encoding=\"UTF-8\", quote = '')"
   ]
  },
  {
   "cell_type": "code",
   "execution_count": 2,
   "metadata": {
    "collapsed": false,
    "scrolled": true
   },
   "outputs": [],
   "source": [
    "data_clean <- data.frame(data$X.1, data$X, data$VERB, data$N.P, data$S_O, data$Time, data$KNOW, data$Perso., data$Act)\n",
    "data_clean[is.na(data_clean)] <- 0\n",
    "data_clean[,7] <- factor(data_clean[,7])\n",
    "\n",
    "train_set <- data_clean[1:200,]\n",
    "test_set <- data_clean[201:453,]"
   ]
  },
  {
   "cell_type": "code",
   "execution_count": 22,
   "metadata": {
    "collapsed": false
   },
   "outputs": [
    {
     "data": {
      "text/plain": [
       "   \n",
       "      N   P\n",
       "  0  62 175\n",
       "  1  14 200"
      ]
     },
     "metadata": {},
     "output_type": "display_data"
    },
    {
     "data": {
      "text/plain": [
       "\n",
       "\tFisher's Exact Test for Count Data\n",
       "\n",
       "data:  table(new_data$data.KNOW, new_data$data.N.P)\n",
       "p-value = 1.398e-08\n",
       "alternative hypothesis: true odds ratio is not equal to 1\n",
       "95 percent confidence interval:\n",
       "  2.678175 10.112650\n",
       "sample estimates:\n",
       "odds ratio \n",
       "  5.044388 \n"
      ]
     },
     "metadata": {},
     "output_type": "display_data"
    },
    {
     "data": {
      "text/plain": [
       "   \n",
       "      N   P\n",
       "  0  61 192\n",
       "  1  15 183"
      ]
     },
     "metadata": {},
     "output_type": "display_data"
    },
    {
     "data": {
      "text/plain": [
       "\n",
       "\tFisher's Exact Test for Count Data\n",
       "\n",
       "data:  table(new_data$data.Perso., new_data$data.N.P)\n",
       "p-value = 1.997e-06\n",
       "alternative hypothesis: true odds ratio is not equal to 1\n",
       "95 percent confidence interval:\n",
       " 2.080347 7.594844\n",
       "sample estimates:\n",
       "odds ratio \n",
       "  3.865405 \n"
      ]
     },
     "metadata": {},
     "output_type": "display_data"
    }
   ],
   "source": [
    "new_data  <- data_clean[data_clean$data.NP != '-',]\n",
    "for(i in c(1:length(data_clean[,1]))){\n",
    "    if(data_clean[i,4]!='-'){\n",
    "        new_data[i,]  <- data_clean[i,]\n",
    "    }\n",
    "}\n",
    "new_data$data.N.P <- droplevels(new_data$data.N.P)\n",
    "table(new_data$data.KNOW, new_data$data.N.P)\n",
    "fisher.test(table(new_data$data.KNOW, new_data$data.N.P))\n",
    "table(new_data$data.Perso., new_data$data.N.P)\n",
    "fisher.test(table(new_data$data.Perso., new_data$data.N.P))"
   ]
  },
  {
   "cell_type": "code",
   "execution_count": 21,
   "metadata": {
    "collapsed": false
   },
   "outputs": [
    {
     "name": "stdout",
     "output_type": "stream",
     "text": [
      "\n",
      "Call:\n",
      " randomForest(formula = data.KNOW ~ data.N.P + data.S_O + data.Perso.,      data = train_set) \n",
      "               Type of random forest: classification\n",
      "                     Number of trees: 500\n",
      "No. of variables tried at each split: 1\n",
      "\n",
      "        OOB estimate of  error rate: 22.5%\n",
      "Confusion matrix:\n",
      "    0  1 class.error\n",
      "0 106 11  0.09401709\n",
      "1  34 49  0.40963855\n"
     ]
    },
    {
     "data": {
      "text/html": [
       "0.185770750988142"
      ],
      "text/latex": [
       "0.185770750988142"
      ],
      "text/markdown": [
       "0.185770750988142"
      ],
      "text/plain": [
       "[1] 0.1857708"
      ]
     },
     "metadata": {},
     "output_type": "display_data"
    },
    {
     "data": {
      "text/plain": [
       "           \n",
       "predictions   0   1\n",
       "          0 115  40\n",
       "          1   7  91"
      ]
     },
     "metadata": {},
     "output_type": "display_data"
    }
   ],
   "source": [
    "library(randomForest)\n",
    "output.forest <- randomForest(formula = data.KNOW ~ data.N.P + data.S_O + data.Perso., data = train_set)\n",
    "\n",
    "# View the forest results.\n",
    "print(output.forest) \n",
    "\n",
    "\n",
    "predictions <- predict(output.forest, newdata = test_set)\n",
    "\n",
    "test_answ  <- test_set$data.KNOW\n",
    "test_answ[is.na(test_answ)] <- 0\n",
    "\n",
    "incorrect  <- 0\n",
    "for(i in c(1:length(test_answ))){\n",
    "\n",
    "        if(predictions[i] != test_set$data.KNOW[i]){\n",
    "            incorrect <- incorrect + 1\n",
    "        \n",
    "    }\n",
    "}\n",
    "(incorrect)/length(test_answ)\n",
    "\n",
    "table(predictions,test_set$data.KNOW)"
   ]
  },
  {
   "cell_type": "code",
   "execution_count": null,
   "metadata": {
    "collapsed": false,
    "scrolled": false
   },
   "outputs": [],
   "source": [
    "model <- glm(data.KNOW~ data.N.P + data.S_O + data.Perso., data = train_set, family = \"binomial\")\n",
    "model\n",
    "#predict.glm(model, test_set, type='response')"
   ]
  },
  {
   "cell_type": "code",
   "execution_count": null,
   "metadata": {
    "collapsed": false
   },
   "outputs": [],
   "source": [
    "model <- glm(data.KNOW~ data.N.P + data.S_O, data = train_set, family = \"binomial\")\n",
    "model\n",
    "#predict.glm(model, test_set, type='response')\n",
    "predictions <- predict(model, newdata = test_set)\n",
    "\n",
    "test_answ  <- test_set$data.KNOW\n",
    "test_answ[is.na(test_answ)] <- 0\n",
    "\n",
    "\n",
    "incorrect  <- 0\n",
    "for(i in c(1:length(test_answ))){\n",
    "\n",
    "        if(predictions[i] != test_set$data.KNOW[i]){\n",
    "            incorrect <- incorrect + 1\n",
    "        \n",
    "    }\n",
    "}\n",
    "(incorrect)/length(test_answ)\n",
    "table(predictions,test_set$KNOW)"
   ]
  }
 ],
 "metadata": {
  "kernelspec": {
   "display_name": "R",
   "language": "R",
   "name": "ir"
  },
  "language_info": {
   "codemirror_mode": "r",
   "file_extension": ".r",
   "mimetype": "text/x-r-source",
   "name": "R",
   "pygments_lexer": "r",
   "version": "3.3.1"
  }
 },
 "nbformat": 4,
 "nbformat_minor": 2
}
